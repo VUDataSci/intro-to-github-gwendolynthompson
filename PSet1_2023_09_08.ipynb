{
  "cells": [
    {
      "cell_type": "markdown",
      "metadata": {
        "id": "view-in-github",
        "colab_type": "text"
      },
      "source": [
        "<a href=\"https://colab.research.google.com/github/VUDataSci/intro-to-github-gwendolynthompson/blob/main/PSet1_2023_09_08.ipynb\" target=\"_parent\"><img src=\"https://colab.research.google.com/assets/colab-badge.svg\" alt=\"Open In Colab\"/></a>"
      ]
    },
    {
      "cell_type": "markdown",
      "metadata": {
        "id": "X4KAg1qwWLst"
      },
      "source": [
        "Problem set 1: Data importing and cleaning\n",
        "\n",
        "Due: 11:59pm on Friday, September 8 by uploading to github\n",
        "\n",
        "Your name:\n",
        "\n",
        "1. Data importing: \"data_finance.csv\" contains a dataset with information about sales transactions. Write the appropriate code for each of the tasks below. This section should be completed without generative AI, but with open access to static online resources like course material, stackoverflow, blogs with sample code, etc."
      ]
    },
    {
      "cell_type": "code",
      "source": [
        "from google.colab import drive\n",
        "\n",
        "drive.mount('/content/drive')"
      ],
      "metadata": {
        "colab": {
          "base_uri": "https://localhost:8080/"
        },
        "id": "w1cteROHmilT",
        "outputId": "c7f73478-5cd1-401e-d54d-84cdc50977c6"
      },
      "execution_count": 4,
      "outputs": [
        {
          "output_type": "stream",
          "name": "stdout",
          "text": [
            "Mounted at /content/drive\n"
          ]
        }
      ]
    },
    {
      "cell_type": "code",
      "execution_count": 5,
      "metadata": {
        "id": "VNactcgqW8by",
        "colab": {
          "base_uri": "https://localhost:8080/"
        },
        "outputId": "6be37b44-7e4f-427a-901c-e821c475e38e"
      },
      "outputs": [
        {
          "output_type": "stream",
          "name": "stdout",
          "text": [
            "1.5.3\n",
            "['transaction_id', 'product_name', 'quantity', 'price']\n",
            "transaction_id      int64\n",
            "product_name       object\n",
            "quantity            int64\n",
            "price             float64\n",
            "dtype: object\n",
            "   transaction_id product_name  quantity  price\n",
            "0               1        Apple         7  12.34\n",
            "1               2       Banana         2  19.05\n",
            "2               3       Cherry         9   5.81\n",
            "3               4         Date         4   1.76\n",
            "4               5   Elderberry         8  10.45\n",
            "    transaction_id          product_name  quantity  price\n",
            "20              21          Vanilla bean         9  17.29\n",
            "21              22            Watermelon         8  13.67\n",
            "22              23                 Xigua         3  21.89\n",
            "23              24  Yellow passion fruit         2  15.54\n",
            "24              25              Zucchini         6  24.72\n",
            "    transaction_id product_name  quantity  price\n",
            "19              20   Ugli fruit        10  20.43\n",
            "15              16       Quince         8   8.65\n",
            "5                6          Fig         3  18.22\n",
            "6                7        Grape         1   7.09\n",
            "16              17    Raspberry         4  16.98\n",
            "25\n",
            "4\n",
            "count    25.000000\n",
            "mean      5.520000\n",
            "std       2.902872\n",
            "min       1.000000\n",
            "25%       3.000000\n",
            "50%       6.000000\n",
            "75%       8.000000\n",
            "max      10.000000\n",
            "Name: quantity, dtype: float64\n",
            "count    25.000000\n",
            "mean     12.514800\n",
            "std       7.346783\n",
            "min       0.990000\n",
            "25%       6.870000\n",
            "50%      12.340000\n",
            "75%      18.220000\n",
            "max      24.720000\n",
            "Name: price, dtype: float64\n"
          ]
        }
      ],
      "source": [
        "# Load the pandas library\n",
        "import pandas as pd\n",
        "print(pd.__version__)\n",
        "# Import the CSV file 'data_finance.csv' into a DataFrame\n",
        "\n",
        "finance_df = pd.read_csv('/content/drive/My Drive/data_finance.csv')\n",
        "\n",
        "# Display the column names\n",
        "print(list(finance_df.columns))\n",
        "# Identify the data types of each column\n",
        "print(finance_df.dtypes)\n",
        "# Display the first 5 rows of the DataFrame\n",
        "print(finance_df.head(5))\n",
        "# Display the last 5 rows of the DataFrame\n",
        "print(finance_df.tail(5))\n",
        "# Display a random sample of 5 rows\n",
        "print(finance_df.sample(5))\n",
        "# Calculate the total number of rows and columns in the DataFrame\n",
        "print(len(finance_df.axes[0]))\n",
        "print(len(finance_df.axes[1]))\n",
        "# Display summary statistics for the quantity and price columns\n",
        "print(finance_df['quantity'].describe())\n",
        "print(finance_df['price'].describe())"
      ]
    },
    {
      "cell_type": "markdown",
      "metadata": {
        "id": "k3x3SBG_blf2"
      },
      "source": [
        "2. Generative AI comparison. Use a reliable generative AI like ChatGPT, Claude, Bing, Jupyter AI, etc. to answer the same questions as Section 1. You should alter the prompt given to the AI to maximize the accuracy and efficiency of its output. Paste both your prompt and the generative AI's output below."
      ]
    },
    {
      "cell_type": "markdown",
      "source": [
        "##Prompt\n",
        "I have attached a csv file.  You are an experienced coder who does things with the utmost efficiency and best coding practice possible. Please read the file into a data frame. Then display the names and data types of each column. Next, display the top and bottom 5 rows of the data frame and a random sample of 5 rows of the data frame. Then, calculate the number of rows and columns in the data frame. Finally display the summary statistics for the quantity and price columns.\n",
        "##AI generated code\n",
        "# Reading the CSV file into a DataFrame\n",
        "df = pd.read_csv('/mnt/data/data_finance.csv')\n",
        "\n",
        "# Displaying the names and data types of each column\n",
        "column_info = df.dtypes\n",
        "\n",
        "# Displaying the top 5 rows of the data frame\n",
        "top_5_rows = df.head()\n",
        "\n",
        "# Displaying the bottom 5 rows of the data frame\n",
        "bottom_5_rows = df.tail()\n",
        "\n",
        "# Displaying a random sample of 5 rows of the data frame\n",
        "sample_5_rows = df.sample(5)\n",
        "\n",
        "# Calculating the number of rows and columns in the data frame\n",
        "num_rows, num_columns = df.shape\n",
        "\n",
        "# Displaying the summary statistics for the quantity and price columns\n",
        "summary_stats = df[['quantity', 'price']].describe()\n",
        "\n",
        "column_info, top_5_rows, bottom_5_rows, sample_5_rows, (num_rows, num_columns), summary_stats"
      ],
      "metadata": {
        "id": "_QLUh6aY_P9d"
      }
    },
    {
      "cell_type": "markdown",
      "metadata": {
        "id": "PZiy5JolYBnB"
      },
      "source": [
        "3. Data cleaning: \"data_students.tsv\" contains a dataset with information about students. Write the appropriate code for each of the tasks below. This section should be completed without generative AI, but with open access to static online resources like course material, stackoverflow, blogs with sample code, etc."
      ]
    },
    {
      "cell_type": "code",
      "execution_count": 23,
      "metadata": {
        "id": "FW5woMoyYNd9",
        "colab": {
          "base_uri": "https://localhost:8080/"
        },
        "outputId": "041a77a0-bc1f-4a00-fe64-9074fe7be345"
      },
      "outputs": [
        {
          "output_type": "stream",
          "name": "stdout",
          "text": [
            "studentID       0\n",
            "name            0\n",
            "studentAge      5\n",
            "sexOfStudent    0\n",
            "location        0\n",
            "mathGrade       0\n",
            "scienceGrade    0\n",
            "historyGrade    0\n",
            "englishGrade    0\n",
            "dtype: int64\n"
          ]
        }
      ],
      "source": [
        "\n",
        "# Import \"data_students.tsv\" into a dataframe\n",
        "students_df = pd.read_csv('/content/drive/My Drive/data_students.tsv', sep='\\t')\n",
        "# Rename the columns to improve machine and human-readability\n",
        "\n",
        "students_df.rename(columns ={\"student_id\":\"studentID\", \"student's age\":\"studentAge\",\"sex of student\":\"sexOfStudent\",\"math grade\":\"mathGrade\", \"science\":\"scienceGrade\",\"history\":\"historyGrade\", \"grade in english\":\"englishGrade\"},\n",
        "                   inplace=True,)\n",
        "\n",
        "# Display the number of missing values in each column\n",
        "print(students_df.isnull().sum())\n",
        "# Create a new column identifying whether the age column is missing\n",
        "\n",
        "# Replace missing values in the 'age' column with the mean age\n",
        "#mean = students_df.mean()\n",
        "students_df.fillna(students_df[\"studentAge\"].mean())\n",
        "# Convert the 'gender' column to lowercase\n",
        "\n",
        "students_df['sexOfStudent'] =students_df[\"sexOfStudent\"].map(str.lower)\n",
        "\n",
        "# Split the location column into separate columns for city and state\n",
        "students_df[['city', 'state']]= students_df['location'].str.split(', ', expand=True)\n",
        "students_df.drop('location', inplace=True,axis=1)\n",
        "\n",
        "# Save the cleaned data to a new CSV file with an appropriate name\n",
        "students_df.to_csv('data_students_clean.csv')"
      ]
    },
    {
      "cell_type": "markdown",
      "metadata": {
        "id": "lcCTq1i-bzGI"
      },
      "source": [
        "4. Generative AI comparison. Use a reliable generative AI like ChatGPT, Claude, Bing, Jupyter AI, etc. to answer the same questions as Section 3. You should alter the prompt given to the AI to maximize the accuracy and efficiency of its output. Paste both your prompt and the generative AI's output below.\n",
        "##Prompt\n",
        "I have uploaded a .tsv file containing data about students. You are an advanced programmer who writes code that is very efficient and easily understandable. Please load the data into a data frame then then improve the columns names to make them easier to read by humans and machines (no spaces, capaitalize or dash between words, ect). Then display the number of missing values in each column and create a new column that identifies if the age column is missing or not. Next, replace any missing values in the 'student's age' column with the mean of the 'student's age' column. Next, convert the 'gender' column to be all lowercase letters. Then, split the location column into separate columns for the city and the state (they are separated by a comma). Finally, save the new cleaned data into a new CSV file that has an appropriate name.\n",
        "##AI generated code\n",
        "import pandas as pd\n",
        "\n",
        "# 1. Load the data into a DataFrame.\n",
        "df = pd.read_csv('/mnt/data/data_students.tsv', sep='\\t')\n",
        "df.head()\n",
        "# 2. Improve the column names.\n",
        "\n",
        "# Create a function to clean column names\n",
        "def clean_column_name(column_name):\n",
        "    # Remove spaces and apostrophes, capitalize words, and join them using underscores\n",
        "    cleaned_name = \"_\".join(column_name.lower().replace(\"'\", \"\").split())\n",
        "    return cleaned_name\n",
        "\n",
        "# Apply the function to all column names\n",
        "df.columns = [clean_column_name(col) for col in df.columns]\n",
        "df.columns\n",
        "# 3. Display the number of missing values in each column.\n",
        "missing_values = df.isnull().sum()\n",
        "missing_values\n",
        "# 4. Create a new column that identifies if the 'students_age' column is missing or not.\n",
        "df['age_missing'] = df['students_age'].isnull()\n",
        "\n",
        "# Display the first few rows to verify\n",
        "df[['students_age', 'age_missing']].head()\n",
        "# 5. Replace any missing values in the 'students_age' column with the mean of that column.\n",
        "mean_age = df['students_age'].mean()\n",
        "df['students_age'].fillna(mean_age, inplace=True)\n",
        "\n",
        "# Verify if any missing values remain in the 'students_age' column\n",
        "missing_values_students_age = df['students_age'].isnull().sum()\n",
        "missing_values_students_age\n",
        "# 6. Convert the 'sex_of_student' column to be all lowercase letters.\n",
        "df['sex_of_student'] = df['sex_of_student'].str.lower()\n",
        "\n",
        "# Display the first few rows of the 'sex_of_student' column to verify\n",
        "df['sex_of_student'].head()\n",
        "# 7. Split the 'location' column into separate columns for the city and the state.\n",
        "df['city'], df['state'] = df['location'].str.split(', ').str\n",
        "\n",
        "# Drop the original 'location' column\n",
        "df.drop('location', axis=1, inplace=True)\n",
        "\n",
        "# Display the first few rows to verify the changes\n",
        "df[['city', 'state']].head()\n",
        "# 8. Save the cleaned data into a new CSV file.\n",
        "output_path = \"/mnt/data/cleaned_students_data.csv\"\n",
        "df.to_csv(output_path, index=False)\n",
        "\n",
        "output_path"
      ]
    },
    {
      "cell_type": "markdown",
      "metadata": {
        "id": "5rFyq2Oyb2dR"
      },
      "source": [
        "5. Generative AI evaluation. Compare the code you produced using static sources to that produced by the generative AI. Write 2-3 paragraphs evaluating the strengths and weaknesses of both approaches. In doing so, you should answer the following questions:\n",
        "* Having now seen the code produced by Generative AI, how would you have written your code differently?\n",
        "* Where does Generative AI excel, and where did it fall short?\n",
        "* What was important in writing your prompt?"
      ]
    }
  ],
  "metadata": {
    "colab": {
      "provenance": [],
      "include_colab_link": true
    },
    "kernelspec": {
      "display_name": "Python 3 (ipykernel)",
      "language": "python",
      "name": "python3"
    },
    "language_info": {
      "codemirror_mode": {
        "name": "ipython",
        "version": 3
      },
      "file_extension": ".py",
      "mimetype": "text/x-python",
      "name": "python",
      "nbconvert_exporter": "python",
      "pygments_lexer": "ipython3",
      "version": "3.11.4"
    }
  },
  "nbformat": 4,
  "nbformat_minor": 0
}